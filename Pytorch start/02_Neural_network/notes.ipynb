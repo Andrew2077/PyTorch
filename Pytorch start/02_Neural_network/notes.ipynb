{
 "cells": [
  {
   "cell_type": "code",
   "execution_count": 2,
   "metadata": {},
   "outputs": [],
   "source": [
    "import torch\n",
    "import torch.nn as nn\n",
    "torch.manual_seed(42)\n",
    "torch.cuda.manual_seed(42)"
   ]
  },
  {
   "attachments": {},
   "cell_type": "markdown",
   "metadata": {},
   "source": [
    "## 1. correct Relu Implementation"
   ]
  },
  {
   "cell_type": "code",
   "execution_count": 3,
   "metadata": {},
   "outputs": [
    {
     "name": "stdout",
     "output_type": "stream",
     "text": [
      "torch.Size([2, 5]) torch.Size([2, 4])\n"
     ]
    },
    {
     "data": {
      "text/plain": [
       "tensor([[21.2538,  4.3000, 10.2018,  7.7455,  3.7234],\n",
       "        [20.1435, -3.4807, 23.2180, 16.7184, -3.3840]],\n",
       "       grad_fn=<AddmmBackward0>)"
      ]
     },
     "execution_count": 3,
     "metadata": {},
     "output_type": "execute_result"
    }
   ],
   "source": [
    "\n",
    "tensor_test = torch.tensor([[10,15,20,30],[11,21,54,30]], dtype=torch.float32)\n",
    "tensor_test\n",
    "\n",
    "linear_layer = nn.Linear(in_features=4, out_features= 5, )\n",
    "modified_tensor = linear_layer(tensor_test)\n",
    "print(modified_tensor.shape, tensor_test.shape)\n",
    "modified_tensor"
   ]
  },
  {
   "cell_type": "code",
   "execution_count": 4,
   "metadata": {},
   "outputs": [
    {
     "data": {
      "text/plain": [
       "(tensor([[21.2538,  4.3000, 10.2018,  7.7455,  3.7234],\n",
       "         [20.1435,  0.0000, 23.2180, 16.7184,  0.0000]],\n",
       "        grad_fn=<ReluBackward0>),\n",
       " torch.Size([2, 5]))"
      ]
     },
     "execution_count": 4,
     "metadata": {},
     "output_type": "execute_result"
    }
   ],
   "source": [
    "relu = nn.ReLU()\n",
    "relu(modified_tensor), relu(modified_tensor).shape"
   ]
  },
  {
   "cell_type": "code",
   "execution_count": 5,
   "metadata": {},
   "outputs": [
    {
     "data": {
      "text/plain": [
       "(tensor([[10., 15., 20., 30.],\n",
       "         [11., 21., 54., 30.]]),\n",
       " torch.Size([2, 4]))"
      ]
     },
     "execution_count": 5,
     "metadata": {},
     "output_type": "execute_result"
    }
   ],
   "source": [
    "relu_linear = nn.ReLU((nn.Linear(in_features=4, out_features=5)))\n",
    "relu_linear(tensor_test), tensor_test.shape"
   ]
  },
  {
   "attachments": {},
   "cell_type": "markdown",
   "metadata": {},
   "source": [
    "## 2. BCE with/without logits"
   ]
  },
  {
   "cell_type": "code",
   "execution_count": 6,
   "metadata": {},
   "outputs": [
    {
     "name": "stdout",
     "output_type": "stream",
     "text": [
      "tensor([ 2.2082, -0.6380,  0.4617], requires_grad=True) tensor([1., 0., 1.])\n",
      "tensor([0.9010, 0.3457, 0.6134], grad_fn=<SigmoidBackward0>)\n"
     ]
    },
    {
     "data": {
      "text/plain": [
       "tensor(0.3391, grad_fn=<BinaryCrossEntropyBackward0>)"
      ]
     },
     "execution_count": 6,
     "metadata": {},
     "output_type": "execute_result"
    }
   ],
   "source": [
    "m = nn.Sigmoid()\n",
    "loss = nn.BCELoss()\n",
    "input = torch.tensor([ 2.2082, -0.6380,  0.4617], requires_grad=True)\n",
    "target = torch.tensor([1, 0, 1], dtype=torch.float32)\n",
    "print(input, target)\n",
    "print(m(input))\n",
    "loss(m(input), target)\n"
   ]
  },
  {
   "cell_type": "code",
   "execution_count": 7,
   "metadata": {},
   "outputs": [
    {
     "data": {
      "text/plain": [
       "tensor(0.3391, grad_fn=<BinaryCrossEntropyWithLogitsBackward0>)"
      ]
     },
     "execution_count": 7,
     "metadata": {},
     "output_type": "execute_result"
    }
   ],
   "source": [
    "criterion = nn.BCEWithLogitsLoss()\n",
    "criterion(input, target)"
   ]
  },
  {
   "cell_type": "code",
   "execution_count": 9,
   "metadata": {},
   "outputs": [
    {
     "name": "stdout",
     "output_type": "stream",
     "text": [
      "tensor(0.3391) tensor(0.3391)\n"
     ]
    }
   ],
   "source": [
    "loss_wo_logits = nn.BCELoss()\n",
    "loss_w_logits = nn.BCEWithLogitsLoss()\n",
    "sig = nn.Sigmoid()\n",
    "\n",
    "with torch.inference_mode():\n",
    "    input = torch.tensor([2.2082, -0.6380, 0.4617], requires_grad=True)\n",
    "    target = torch.tensor([1, 0, 1], dtype=torch.float32)\n",
    "\n",
    "    print(loss_wo_logits(sig(input), target), loss_w_logits(input, target))\n"
   ]
  },
  {
   "attachments": {},
   "cell_type": "markdown",
   "metadata": {},
   "source": [
    "## usually BCE with logits performs better"
   ]
  },
  {
   "cell_type": "code",
   "execution_count": null,
   "metadata": {},
   "outputs": [],
   "source": []
  }
 ],
 "metadata": {
  "kernelspec": {
   "display_name": "torch",
   "language": "python",
   "name": "python3"
  },
  "language_info": {
   "codemirror_mode": {
    "name": "ipython",
    "version": 3
   },
   "file_extension": ".py",
   "mimetype": "text/x-python",
   "name": "python",
   "nbconvert_exporter": "python",
   "pygments_lexer": "ipython3",
   "version": "3.8.16"
  },
  "orig_nbformat": 4,
  "vscode": {
   "interpreter": {
    "hash": "1d9c3c500b8bab2cdd86682acf135365680fb2fcb10592a31bb294351b9c146c"
   }
  }
 },
 "nbformat": 4,
 "nbformat_minor": 2
}
