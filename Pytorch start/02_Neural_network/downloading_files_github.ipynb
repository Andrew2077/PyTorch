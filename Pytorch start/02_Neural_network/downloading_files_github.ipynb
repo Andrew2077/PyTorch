{
 "cells": [
  {
   "cell_type": "code",
   "execution_count": 2,
   "metadata": {},
   "outputs": [],
   "source": [
    "def download_from_github(filename: str, raw_url: str):\n",
    "    import requests\n",
    "    from pathlib import Path\n",
    "\n",
    "    if Path(filename).is_file():  # * check if the file is found\n",
    "        print(\"File exists\")\n",
    "    else:\n",
    "        print(\"downloading File\") \n",
    "        request = requests.get(raw_url) #* getting file\n",
    "        with open(filename, \"wb\") as f: #* creating local file\n",
    "            f.write(request.content) #* copy - paste content\n"
   ]
  },
  {
   "cell_type": "code",
   "execution_count": 4,
   "metadata": {},
   "outputs": [
    {
     "name": "stdout",
     "output_type": "stream",
     "text": [
      "File exists\n"
     ]
    }
   ],
   "source": [
    "download_from_github(\n",
    "    filename=\"Helper_fucntiosn.py\",\n",
    "    raw_url=\"https://raw.githubusercontent.com/mrdbourke/pytorch-deep-learning/main/helper_functions.py\"\n",
    ")"
   ]
  }
 ],
 "metadata": {
  "kernelspec": {
   "display_name": "torch",
   "language": "python",
   "name": "python3"
  },
  "language_info": {
   "codemirror_mode": {
    "name": "ipython",
    "version": 3
   },
   "file_extension": ".py",
   "mimetype": "text/x-python",
   "name": "python",
   "nbconvert_exporter": "python",
   "pygments_lexer": "ipython3",
   "version": "3.8.16"
  },
  "orig_nbformat": 4,
  "vscode": {
   "interpreter": {
    "hash": "1d9c3c500b8bab2cdd86682acf135365680fb2fcb10592a31bb294351b9c146c"
   }
  }
 },
 "nbformat": 4,
 "nbformat_minor": 2
}
